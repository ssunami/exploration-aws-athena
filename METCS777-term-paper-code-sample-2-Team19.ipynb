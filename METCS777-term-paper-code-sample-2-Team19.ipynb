{
 "cells": [
  {
   "cell_type": "code",
   "execution_count": 1,
   "metadata": {},
   "outputs": [
    {
     "name": "stdout",
     "output_type": "stream",
     "text": [
      "Calculation started (calculation_id=66c72fbc-8ec3-6f24-18a2-671cf7b7f043) in (session=7ac72fbc-744a-3c14-5b2c-314bae970498). Checking calculation status...\n"
     ]
    },
    {
     "data": {
      "application/vnd.jupyter.widget-view+json": {
       "model_id": "e2feb6ad5b3643c4a84bfbff588f99a3",
       "version_major": 2,
       "version_minor": 0
      },
      "text/plain": [
       "Progress:   0%|          |elapsed time = 00:00s"
      ]
     },
     "metadata": {},
     "output_type": "display_data"
    },
    {
     "name": "stdout",
     "output_type": "stream",
     "text": [
      "Calculation completed.\n",
      "+--------------------+\n",
      "|           namespace|\n",
      "+--------------------+\n",
      "|athena_spark_tuto...|\n",
      "|             default|\n",
      "|                taxi|\n",
      "|  term_paper_demo_db|\n",
      "+--------------------+\n",
      "\n"
     ]
    }
   ],
   "source": [
    "spark.sql(\"show databases\").show()"
   ]
  },
  {
   "cell_type": "code",
   "execution_count": 2,
   "metadata": {},
   "outputs": [
    {
     "name": "stdout",
     "output_type": "stream",
     "text": [
      "Calculation started (calculation_id=30c72fbc-e9c8-2d51-edf4-584493b77a4f) in (session=7ac72fbc-744a-3c14-5b2c-314bae970498). Checking calculation status...\n"
     ]
    },
    {
     "data": {
      "application/vnd.jupyter.widget-view+json": {
       "model_id": "38aacb88b8fc4df6adae4792613f7e9e",
       "version_major": 2,
       "version_minor": 0
      },
      "text/plain": [
       "Progress:   0%|          |elapsed time = 00:00s"
      ]
     },
     "metadata": {},
     "output_type": "display_data"
    },
    {
     "name": "stdout",
     "output_type": "stream",
     "text": [
      "Calculation completed.\n"
     ]
    }
   ],
   "source": [
    "# Read the data and create df\n",
    "sqlDF = spark.sql(\"SELECT * From term_paper_demo_db.nyc_taxi\")"
   ]
  },
  {
   "cell_type": "code",
   "execution_count": 3,
   "metadata": {},
   "outputs": [
    {
     "name": "stdout",
     "output_type": "stream",
     "text": [
      "Calculation started (calculation_id=54c72fbc-fe7a-b07d-ebfa-ecf3b3c37461) in (session=7ac72fbc-744a-3c14-5b2c-314bae970498). Checking calculation status...\n"
     ]
    },
    {
     "data": {
      "application/vnd.jupyter.widget-view+json": {
       "model_id": "45528fb8f5fd409997d1da48b93b48e7",
       "version_major": 2,
       "version_minor": 0
      },
      "text/plain": [
       "Progress:   0%|          |elapsed time = 00:00s"
      ]
     },
     "metadata": {},
     "output_type": "display_data"
    },
    {
     "name": "stdout",
     "output_type": "stream",
     "text": [
      "Calculation completed.\n",
      "+--------------------+--------------------+-------------------+-------------------+-----------------+-------------+----------------+---------------+-----------------+----------------+------------+-----------+---------+-------+----------+------------+------------+\n",
      "|           medallion|        hack_license|    pickup_datetime|   dropoff_datetime|trip_time_in_secs|trip_distance|pickup_longitude|pickup_latitude|dropoff_longitude|dropoff_latitude|payment_type|fare_amount|surcharge|mta_tax|tip_amount|tolls_amount|total_amount|\n",
      "+--------------------+--------------------+-------------------+-------------------+-----------------+-------------+----------------+---------------+-----------------+----------------+------------+-----------+---------+-------+----------+------------+------------+\n",
      "|5EE2C4D3BF57BDB45...|E96EF8F6E6122591F...|2013-01-01 00:00:09|2013-01-01 00:00:36|               26|          0.1|       -73.99221|      40.725124|       -73.991646|       40.726658|         CSH|        2.5|      0.5|    0.5|       0.0|         0.0|         3.5|\n",
      "|42730E78D8BE872B5...|6016A71F1D29D678E...|2013-01-01 00:01:00|2013-01-01 00:01:00|                0|         0.01|             0.0|            0.0|              0.0|             0.0|         CSH|        2.5|      0.5|    0.5|       0.0|         0.0|         3.5|\n",
      "|CA6CD9BAED6A85E43...|77FFDF38272A60065...|2013-01-01 00:00:20|2013-01-01 00:01:22|               61|          2.2|        -73.9701|      40.768005|        -73.96977|       40.767834|         CSH|        3.0|      0.5|    0.5|       0.0|         0.0|         4.0|\n",
      "|15162141EA7436635...|CDCB7729DE0724372...|2013-01-01 00:00:14|2013-01-01 00:01:37|               83|          0.2|       -73.97544|      40.749657|        -73.97733|        40.75199|         CSH|        3.0|      0.5|    0.5|       0.0|         0.0|         4.0|\n",
      "|025B98A22ED771118...|7D89374F8E98F30A1...|2013-01-01 00:00:40|2013-01-01 00:01:40|               60|          0.3|      -74.005165|       40.72053|        -74.00393|       40.725655|         CSH|        3.0|      0.5|    0.5|       0.0|         0.0|         4.0|\n",
      "|07290D3599E7A0D62...|E7750A37CAB07D0DF...|2013-01-01 00:00:00|2013-01-01 00:02:00|              120|         0.44|       -73.95653|      40.716976|        -73.96244|       40.715008|         CSH|        3.5|      0.5|    0.5|       0.0|         0.0|         4.5|\n",
      "|22D70BF00EEB0ADC8...|3FF2709163DE7036F...|2013-01-01 00:02:00|2013-01-01 00:02:00|                0|          0.0|             0.0|            0.0|              0.0|             0.0|         CSH|       27.0|      0.0|    0.5|       0.0|         0.0|        27.5|\n",
      "|E79E74C15D90CD93B...|145038A0CC99D6982...|2013-01-01 00:01:00|2013-01-01 00:02:00|               60|         0.45|       -73.95208|       40.79017|        -73.94892|       40.794323|         CSH|        3.5|      0.5|    0.5|       0.0|         0.0|         4.5|\n",
      "|FD39403FDE46B6C75...|2B36D07A27BB35D7D...|2013-01-01 00:01:00|2013-01-01 00:02:00|               60|         0.34|        -74.0032|      40.708313|        -74.00561|        40.70655|         CRD|        3.5|      0.5|    0.5|       0.8|         0.0|         5.3|\n",
      "|E0F370CA508B7E8F6...|5AE4F2FB8B90CA06F...|2013-01-01 00:01:35|2013-01-01 00:02:23|               48|          1.2|        -73.9779|       40.75791|        -73.97802|       40.757362|         DIS|        2.5|      0.5|    0.5|       0.0|         0.0|         3.5|\n",
      "|08E54F4C460720DDE...|33276CA24A915CBD6...|2013-01-01 00:00:00|2013-01-01 00:02:44|              163|          0.5|       -73.99988|      40.743343|        -74.00371|        40.74828|         CRD|        4.0|      0.5|    0.5|       1.0|         0.0|         6.0|\n",
      "|81124DBD6AB03F24B...|EFEDEB0551AA8916D...|2013-01-01 00:02:42|2013-01-01 00:02:50|                8|          0.0|      -73.781586|      40.644794|        -73.78128|        40.64488|         NOC|       20.0|      0.5|    0.0|       0.0|         0.0|        20.5|\n",
      "|8287BE67DA22E4ABB...|B19151C3FB6D993FF...|2013-01-01 00:02:06|2013-01-01 00:02:54|               48|          0.0|       -73.99196|       40.72627|       -73.992226|        40.72551|         NOC|        2.5|      0.5|    0.5|       0.0|         0.0|         3.5|\n",
      "|0CEBE42EAF42C3380...|CC7A4176549BA819E...|2013-01-01 00:00:00|2013-01-01 00:03:00|              180|         1.56|       -74.00975|      40.706432|       -73.971985|       40.794716|         CSH|        6.5|      0.5|    0.5|       0.0|         0.0|         7.5|\n",
      "|0EC22AAF491A8BD91...|778C92B26AE78A9EB...|2013-01-01 00:01:00|2013-01-01 00:03:00|              120|         0.71|      -73.973145|      40.752827|         -73.9659|       40.760445|         CSH|        4.0|      0.5|    0.5|       0.0|         0.0|         5.0|\n",
      "|1390FB380189DF6BB...|BE317B986700F63C4...|2013-01-01 00:01:00|2013-01-01 00:03:00|              120|         0.48|       -74.00417|      40.720947|        -74.00384|        40.72619|         CSH|        4.0|      0.5|    0.5|       0.0|         0.0|         5.0|\n",
      "|319AE2555940BA65D...|BAC146F5AA74DE304...|2013-01-01 00:00:00|2013-01-01 00:03:00|              180|         0.39|       -73.99061|      40.734997|        -73.98949|       40.730324|         CRD|        4.0|      0.5|    0.5|       0.9|         0.0|         5.9|\n",
      "|3B4129883A1D05BE8...|7077F9FD5AD649AEA...|2013-01-01 00:01:00|2013-01-01 00:03:00|              120|         0.61|       -73.98737|       40.72486|        -73.98377|       40.730995|         CRD|        4.0|      0.5|    0.5|       0.0|         0.0|         5.0|\n",
      "|3E7DB7D3DC9961BA3...|452B322CA3BB3132F...|2013-01-01 00:00:00|2013-01-01 00:03:00|              180|         1.52|       -73.95412|      40.778343|        -73.94182|        40.79548|         CSH|        6.0|      0.5|    0.5|       0.0|         0.0|         7.0|\n",
      "|557B02E4BC71B16C0...|10DEF6B15C01194B2...|2013-01-01 00:01:00|2013-01-01 00:03:00|              120|         0.41|       -73.97617|       40.74494|        -73.98092|       40.747517|         CSH|        4.0|      0.5|    0.5|       0.0|         0.0|         5.0|\n",
      "+--------------------+--------------------+-------------------+-------------------+-----------------+-------------+----------------+---------------+-----------------+----------------+------------+-----------+---------+-------+----------+------------+------------+\n",
      "only showing top 20 rows\n",
      "\n"
     ]
    }
   ],
   "source": [
    "sqlDF.show()"
   ]
  },
  {
   "cell_type": "code",
   "execution_count": 4,
   "metadata": {},
   "outputs": [
    {
     "name": "stdout",
     "output_type": "stream",
     "text": [
      "Calculation started (calculation_id=ccc72fbd-1a95-9f95-59c7-1420f8eed63a) in (session=7ac72fbc-744a-3c14-5b2c-314bae970498). Checking calculation status...\n"
     ]
    },
    {
     "data": {
      "application/vnd.jupyter.widget-view+json": {
       "model_id": "a3a36495b5ce40f683681972ff3edee2",
       "version_major": 2,
       "version_minor": 0
      },
      "text/plain": [
       "Progress:   0%|          |elapsed time = 00:00s"
      ]
     },
     "metadata": {},
     "output_type": "display_data"
    },
    {
     "name": "stdout",
     "output_type": "stream",
     "text": [
      "Calculation completed.\n"
     ]
    }
   ],
   "source": [
    "sqlDF.createOrReplaceTempView(\"sqlDF_view\")"
   ]
  },
  {
   "cell_type": "code",
   "execution_count": 5,
   "metadata": {},
   "outputs": [
    {
     "name": "stdout",
     "output_type": "stream",
     "text": [
      "Calculation started (calculation_id=66c72fbd-3576-b774-0870-7a56d4744647) in (session=7ac72fbc-744a-3c14-5b2c-314bae970498). Checking calculation status...\n"
     ]
    },
    {
     "data": {
      "application/vnd.jupyter.widget-view+json": {
       "model_id": "097c3fca696e4ee893c18902c5e4bf4e",
       "version_major": 2,
       "version_minor": 0
      },
      "text/plain": [
       "Progress:   0%|          |elapsed time = 00:00s"
      ]
     },
     "metadata": {},
     "output_type": "display_data"
    },
    {
     "name": "stdout",
     "output_type": "stream",
     "text": [
      "Calculation completed.\n"
     ]
    }
   ],
   "source": [
    "#Remove NAs and 0s \n",
    "sqlDF_filtered = spark.sql(\"\"\"\n",
    "SELECT *\n",
    "FROM sqlDF_view\n",
    "WHERE \n",
    "    trip_time_in_secs IS NOT NULL AND CAST(trip_time_in_secs AS FLOAT) != 0 AND\n",
    "    trip_distance IS NOT NULL AND CAST(trip_distance AS FLOAT) != 0 AND\n",
    "    fare_amount IS NOT NULL AND CAST(fare_amount AS FLOAT)!= 0 AND\n",
    "    surcharge IS NOT NULL AND CAST(surcharge AS FLOAT) != 0 AND\n",
    "    total_amount IS NOT NULL AND CAST(total_amount AS FLOAT) != 0\n",
    "\"\"\")"
   ]
  },
  {
   "cell_type": "code",
   "execution_count": 6,
   "metadata": {},
   "outputs": [
    {
     "name": "stdout",
     "output_type": "stream",
     "text": [
      "Calculation started (calculation_id=5ac72fbd-4d96-a584-2bf1-b083310f4a87) in (session=7ac72fbc-744a-3c14-5b2c-314bae970498). Checking calculation status...\n"
     ]
    },
    {
     "data": {
      "application/vnd.jupyter.widget-view+json": {
       "model_id": "3fd687f292f84a1da4703fa58d229c1c",
       "version_major": 2,
       "version_minor": 0
      },
      "text/plain": [
       "Progress:   0%|          |elapsed time = 00:00s"
      ]
     },
     "metadata": {},
     "output_type": "display_data"
    },
    {
     "name": "stdout",
     "output_type": "stream",
     "text": [
      "Calculation completed.\n",
      "+--------------------+---------------------+\n",
      "|           medallion|distinct_driver_count|\n",
      "+--------------------+---------------------+\n",
      "|7DA8DF1E4414F81EB...|                  305|\n",
      "|B07944BF31699A169...|                  303|\n",
      "|6C1132EF70BC0A7DB...|                  300|\n",
      "|23DB792D3F7EBA030...|                  300|\n",
      "|A10A65AFD9F401BF3...|                  299|\n",
      "|E4ED88FCD99B05ED6...|                  298|\n",
      "|021F88711374FB07E...|                  293|\n",
      "|7D93E7FC4A7E4615A...|                  292|\n",
      "|43D85E4D101135DDF...|                  292|\n",
      "|EE06BD8A621CAC3B6...|                  289|\n",
      "+--------------------+---------------------+\n",
      "\n"
     ]
    }
   ],
   "source": [
    "from pyspark.sql import functions as F\n",
    "\n",
    "# Group by 'medallion', count distinct 'hack_license'\n",
    "driver_counts = sqlDF_filtered.groupBy('medallion').agg(F.countDistinct('hack_license').alias('distinct_driver_count'))\n",
    "\n",
    "# Order by the count in descending order and take the top 10\n",
    "top_10_medallions = driver_counts.orderBy(F.desc('distinct_driver_count')).limit(10)\n",
    "top_10_medallions.show()"
   ]
  },
  {
   "cell_type": "code",
   "execution_count": 12,
   "metadata": {},
   "outputs": [
    {
     "name": "stdout",
     "output_type": "stream",
     "text": [
      "Calculation started (calculation_id=3cc72fc1-81ea-5b0f-bd79-a8b750e07ec2) in (session=7ac72fbc-744a-3c14-5b2c-314bae970498). Checking calculation status...\n"
     ]
    },
    {
     "data": {
      "application/vnd.jupyter.widget-view+json": {
       "model_id": "09dbf73d396c4f40a17d6b083fa0a17b",
       "version_major": 2,
       "version_minor": 0
      },
      "text/plain": [
       "Progress:   0%|          |elapsed time = 00:00s"
      ]
     },
     "metadata": {},
     "output_type": "display_data"
    },
    {
     "name": "stdout",
     "output_type": "stream",
     "text": [
      "Calculation completed.\n"
     ]
    }
   ],
   "source": [
    "output_df_1 = top_10_medallions.select(F.concat_ws(\", \", \"medallion\", F.col(\"distinct_driver_count\").cast(\"string\")).alias(\"text\"))"
   ]
  },
  {
   "cell_type": "code",
   "execution_count": 13,
   "metadata": {},
   "outputs": [
    {
     "name": "stdout",
     "output_type": "stream",
     "text": [
      "Calculation started (calculation_id=62c72fc1-92bf-d700-28bc-01263654f465) in (session=7ac72fbc-744a-3c14-5b2c-314bae970498). Checking calculation status...\n"
     ]
    },
    {
     "data": {
      "application/vnd.jupyter.widget-view+json": {
       "model_id": "33b890d71b2b4cccb2d81e5a037a70ad",
       "version_major": 2,
       "version_minor": 0
      },
      "text/plain": [
       "Progress:   0%|          |elapsed time = 00:00s"
      ]
     },
     "metadata": {},
     "output_type": "display_data"
    },
    {
     "name": "stdout",
     "output_type": "stream",
     "text": [
      "Calculation completed.\n",
      "[Row(text='7DA8DF1E4414F81EBD3A0140073B2630, 305'), Row(text='B07944BF31699A169091D2B16597A4A9, 303'), Row(text='6C1132EF70BC0A7DB02174592F9A64A1, 300'), Row(text='23DB792D3F7EBA03004E470B684F2738, 300'), Row(text='A10A65AFD9F401BF3BDB79C84D3549E7, 299'), Row(text='E4ED88FCD99B05ED6F072D9A104402A8, 298'), Row(text='021F88711374FB07E02F03A06637C5C8, 293'), Row(text='43D85E4D101135DDFC1BC16DF53665FE, 292'), Row(text='7D93E7FC4A7E4615A34B8286D92FF57F, 292'), Row(text='EE06BD8A621CAC3B608ACFDF0585A76A, 289')]\n",
      "\n"
     ]
    }
   ],
   "source": [
    "output_df_1.take(10)"
   ]
  },
  {
   "cell_type": "code",
   "execution_count": 16,
   "metadata": {},
   "outputs": [
    {
     "name": "stdout",
     "output_type": "stream",
     "text": [
      "Calculation started (calculation_id=98c72fc3-5820-d10b-ed2c-58ae8739161a) in (session=7ac72fbc-744a-3c14-5b2c-314bae970498). Checking calculation status...\n"
     ]
    },
    {
     "data": {
      "application/vnd.jupyter.widget-view+json": {
       "model_id": "c7f59f75ae8b4cff971a33a3f4d346fb",
       "version_major": 2,
       "version_minor": 0
      },
      "text/plain": [
       "Progress:   0%|          |elapsed time = 00:00s"
      ]
     },
     "metadata": {},
     "output_type": "display_data"
    },
    {
     "name": "stdout",
     "output_type": "stream",
     "text": [
      "Calculation completed.\n"
     ]
    }
   ],
   "source": [
    "# Save the DataFrame as a text file in S3\n",
    "output_df_1.write.text(\"s3://term-paper-demo/results/output_1_large\")"
   ]
  },
  {
   "cell_type": "code",
   "execution_count": 17,
   "metadata": {},
   "outputs": [
    {
     "name": "stdout",
     "output_type": "stream",
     "text": [
      "Calculation started (calculation_id=40c72fc4-007d-b832-cab0-7407e95c9324) in (session=7ac72fbc-744a-3c14-5b2c-314bae970498). Checking calculation status...\n"
     ]
    },
    {
     "data": {
      "application/vnd.jupyter.widget-view+json": {
       "model_id": "9a8af32669b74ca1a3bb3719da65588c",
       "version_major": 2,
       "version_minor": 0
      },
      "text/plain": [
       "Progress:   0%|          |elapsed time = 00:00s"
      ]
     },
     "metadata": {},
     "output_type": "display_data"
    },
    {
     "name": "stdout",
     "output_type": "stream",
     "text": [
      "Calculation completed.\n",
      "+-----------------+--------+\n",
      "|duration_category|   count|\n",
      "+-----------------+--------+\n",
      "|    10 to 20 mins|31670435|\n",
      "|    20 to 30 mins| 8725616|\n",
      "|Less than 10 mins|41769539|\n",
      "|More than 30 mins| 2800865|\n",
      "+-----------------+--------+\n",
      "\n"
     ]
    }
   ],
   "source": [
    "# Count the number of records by the length of trip time\n",
    "duration_categories = sqlDF_filtered.withColumn(\n",
    "    'duration_category',\n",
    "    F.when(F.col('trip_time_in_secs') < 600, 'Less than 10 mins')\n",
    "     .when((F.col('trip_time_in_secs') >= 600) & (F.col('trip_time_in_secs') < 1200), '10 to 20 mins')\n",
    "     .when((F.col('trip_time_in_secs') >= 1200) & (F.col('trip_time_in_secs') < 1800), '20 to 30 mins')\n",
    "     .otherwise('More than 30 mins')\n",
    ")\n",
    "\n",
    "trip_counts_by_duration = duration_categories.groupBy('duration_category').count().orderBy('duration_category')\n",
    "trip_counts_by_duration.show()"
   ]
  },
  {
   "cell_type": "code",
   "execution_count": 18,
   "metadata": {},
   "outputs": [
    {
     "name": "stdout",
     "output_type": "stream",
     "text": [
      "Calculation started (calculation_id=52c72fc7-d8ed-82b8-5188-c27aa32d3d23) in (session=7ac72fbc-744a-3c14-5b2c-314bae970498). Checking calculation status...\n"
     ]
    },
    {
     "data": {
      "application/vnd.jupyter.widget-view+json": {
       "model_id": "4b7e05e91dd943ccb87e9db213f393cf",
       "version_major": 2,
       "version_minor": 0
      },
      "text/plain": [
       "Progress:   0%|          |elapsed time = 00:00s"
      ]
     },
     "metadata": {},
     "output_type": "display_data"
    },
    {
     "name": "stdout",
     "output_type": "stream",
     "text": [
      "Calculation completed.\n"
     ]
    }
   ],
   "source": [
    "output_df_2 = trip_counts_by_duration.select(F.concat_ws(\", \", \"duration_category\", F.col(\"count\").cast(\"string\")).alias(\"text\"))"
   ]
  },
  {
   "cell_type": "code",
   "execution_count": 19,
   "metadata": {},
   "outputs": [
    {
     "name": "stdout",
     "output_type": "stream",
     "text": [
      "Calculation started (calculation_id=e4c72fc7-f048-e3ac-a812-0172f7ba1597) in (session=7ac72fbc-744a-3c14-5b2c-314bae970498). Checking calculation status...\n"
     ]
    },
    {
     "data": {
      "application/vnd.jupyter.widget-view+json": {
       "model_id": "d1802990111c4dcd82d35580a2bbbbc7",
       "version_major": 2,
       "version_minor": 0
      },
      "text/plain": [
       "Progress:   0%|          |elapsed time = 00:00s"
      ]
     },
     "metadata": {},
     "output_type": "display_data"
    },
    {
     "name": "stdout",
     "output_type": "stream",
     "text": [
      "Calculation completed.\n",
      "[Row(text='10 to 20 mins, 31670435'), Row(text='20 to 30 mins, 8725616'), Row(text='Less than 10 mins, 41769539'), Row(text='More than 30 mins, 2800865')]\n",
      "\n"
     ]
    }
   ],
   "source": [
    "output_df_2.take(10)"
   ]
  },
  {
   "cell_type": "code",
   "execution_count": 20,
   "metadata": {},
   "outputs": [
    {
     "name": "stdout",
     "output_type": "stream",
     "text": [
      "Calculation started (calculation_id=c2c72fc8-a208-d08f-4db2-a7903af1b75a) in (session=7ac72fbc-744a-3c14-5b2c-314bae970498). Checking calculation status...\n"
     ]
    },
    {
     "data": {
      "application/vnd.jupyter.widget-view+json": {
       "model_id": "40514a72d28946c78d2795d926c3bbf3",
       "version_major": 2,
       "version_minor": 0
      },
      "text/plain": [
       "Progress:   0%|          |elapsed time = 00:00s"
      ]
     },
     "metadata": {},
     "output_type": "display_data"
    },
    {
     "name": "stdout",
     "output_type": "stream",
     "text": [
      "Calculation completed.\n"
     ]
    }
   ],
   "source": [
    "# Save the DataFrame as a text file in S3\n",
    "output_df_2.write.text(\"s3://term-paper-demo/results/output_2_large\")"
   ]
  },
  {
   "cell_type": "code",
   "execution_count": null,
   "metadata": {},
   "outputs": [],
   "source": []
  }
 ],
 "metadata": {
  "kernelspec": {
   "display_name": "Athena PySpark",
   "language": "python",
   "name": "kepler_python_kernel"
  },
  "language_info": {
   "codemirror_mode": {
    "name": "python",
    "version": 3
   },
   "file_extension": ".py",
   "mimetype": "text/x-python",
   "name": "Python_Session",
   "pygments_lexer": "python3"
  }
 },
 "nbformat": 4,
 "nbformat_minor": 1
}
